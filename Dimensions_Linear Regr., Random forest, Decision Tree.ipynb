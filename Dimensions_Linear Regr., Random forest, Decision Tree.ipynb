{
  "nbformat": 4,
  "nbformat_minor": 0,
  "metadata": {
    "kernelspec": {
      "display_name": "Python 3",
      "language": "python",
      "name": "python3"
    },
    "language_info": {
      "codemirror_mode": {
        "name": "ipython",
        "version": 3
      },
      "file_extension": ".py",
      "mimetype": "text/x-python",
      "name": "python",
      "nbconvert_exporter": "python",
      "pygments_lexer": "ipython3",
      "version": "3.7.2"
    },
    "colab": {
      "provenance": [],
      "include_colab_link": true
    }
  },
  "cells": [
    {
      "cell_type": "markdown",
      "metadata": {
        "id": "view-in-github",
        "colab_type": "text"
      },
      "source": [
        "<a href=\"https://colab.research.google.com/github/evangelialampropoulou/Projects/blob/main/Dimensions_Linear%20Regr.%2C%20Random%20forest%2C%20Decision%20Tree.ipynb\" target=\"_parent\"><img src=\"https://colab.research.google.com/assets/colab-badge.svg\" alt=\"Open In Colab\"/></a>"
      ]
    },
    {
      "cell_type": "markdown",
      "metadata": {
        "id": "4qUwuOKb5Yt1"
      },
      "source": [
        "# Classwork 8 - To πρόβλημα της διαστατικότητας"
      ]
    },
    {
      "cell_type": "markdown",
      "metadata": {
        "id": "9_NRjVH95Yt2"
      },
      "source": [
        "## 1. Προετοιμασία\n",
        "\n",
        "Θα χρησιμοποιήσουμε πάλι τα δεδομένα για την ποιότητα του κρασιου και ως συνήθως θα  προσπαθήσουμε να προβλέψουμε την ποιότητα με βάση χαρακτηριστικά όπως παραπάνω ζάχαρη, κιτρικό οξύ κ.λπ."
      ]
    },
    {
      "cell_type": "code",
      "metadata": {
        "id": "OmrVG_hS5Yt3"
      },
      "source": [
        "# Import\n",
        "import pandas as pd\n",
        "import numpy as np\n",
        "import matplotlib.pyplot as plt\n",
        "from sklearn.metrics import mean_squared_error, r2_score\n",
        "from sklearn.tree import DecisionTreeRegressor, plot_tree\n",
        "from sklearn.linear_model import LinearRegression\n",
        "from sklearn.ensemble import RandomForestRegressor\n",
        "from sklearn.model_selection import RepeatedKFold, train_test_split"
      ],
      "execution_count": null,
      "outputs": []
    },
    {
      "cell_type": "code",
      "metadata": {
        "scrolled": true,
        "id": "2Y1mRa385Yt6",
        "colab": {
          "base_uri": "https://localhost:8080/"
        },
        "outputId": "9b53fbae-7c65-4439-b621-c5916c5a9d22"
      },
      "source": [
        "from google.colab import drive\n",
        "drive.mount('/gdrive')"
      ],
      "execution_count": null,
      "outputs": [
        {
          "output_type": "stream",
          "name": "stdout",
          "text": [
            "Mounted at /gdrive\n"
          ]
        }
      ]
    },
    {
      "cell_type": "code",
      "metadata": {
        "id": "4yKXAFUT5sdN",
        "colab": {
          "base_uri": "https://localhost:8080/",
          "height": 485
        },
        "outputId": "be54b32a-6312-4b3b-ece7-f0158f6a4abd"
      },
      "source": [
        "df_wine = pd.read_csv('https://raw.githubusercontent.com/datajour-gr/ML-algorithms/master/week%208/winequality-white.csv', sep=\";\", header=0)\n",
        "df_wine"
      ],
      "execution_count": null,
      "outputs": [
        {
          "output_type": "execute_result",
          "data": {
            "text/plain": [
              "      fixed acidity  volatile acidity  citric acid  residual sugar  chlorides  \\\n",
              "0               7.0              0.27         0.36            20.7      0.045   \n",
              "1               6.3              0.30         0.34             1.6      0.049   \n",
              "2               8.1              0.28         0.40             6.9      0.050   \n",
              "3               7.2              0.23         0.32             8.5      0.058   \n",
              "4               7.2              0.23         0.32             8.5      0.058   \n",
              "...             ...               ...          ...             ...        ...   \n",
              "4893            6.2              0.21         0.29             1.6      0.039   \n",
              "4894            6.6              0.32         0.36             8.0      0.047   \n",
              "4895            6.5              0.24         0.19             1.2      0.041   \n",
              "4896            5.5              0.29         0.30             1.1      0.022   \n",
              "4897            6.0              0.21         0.38             0.8      0.020   \n",
              "\n",
              "      free sulfur dioxide  total sulfur dioxide  density    pH  sulphates  \\\n",
              "0                    45.0                 170.0  1.00100  3.00       0.45   \n",
              "1                    14.0                 132.0  0.99400  3.30       0.49   \n",
              "2                    30.0                  97.0  0.99510  3.26       0.44   \n",
              "3                    47.0                 186.0  0.99560  3.19       0.40   \n",
              "4                    47.0                 186.0  0.99560  3.19       0.40   \n",
              "...                   ...                   ...      ...   ...        ...   \n",
              "4893                 24.0                  92.0  0.99114  3.27       0.50   \n",
              "4894                 57.0                 168.0  0.99490  3.15       0.46   \n",
              "4895                 30.0                 111.0  0.99254  2.99       0.46   \n",
              "4896                 20.0                 110.0  0.98869  3.34       0.38   \n",
              "4897                 22.0                  98.0  0.98941  3.26       0.32   \n",
              "\n",
              "      alcohol  quality  \n",
              "0         8.8        6  \n",
              "1         9.5        6  \n",
              "2        10.1        6  \n",
              "3         9.9        6  \n",
              "4         9.9        6  \n",
              "...       ...      ...  \n",
              "4893     11.2        6  \n",
              "4894      9.6        5  \n",
              "4895      9.4        6  \n",
              "4896     12.8        7  \n",
              "4897     11.8        6  \n",
              "\n",
              "[4898 rows x 12 columns]"
            ],
            "text/html": [
              "\n",
              "  <div id=\"df-4e8352a7-10ff-4830-89fc-0809c4030740\">\n",
              "    <div class=\"colab-df-container\">\n",
              "      <div>\n",
              "<style scoped>\n",
              "    .dataframe tbody tr th:only-of-type {\n",
              "        vertical-align: middle;\n",
              "    }\n",
              "\n",
              "    .dataframe tbody tr th {\n",
              "        vertical-align: top;\n",
              "    }\n",
              "\n",
              "    .dataframe thead th {\n",
              "        text-align: right;\n",
              "    }\n",
              "</style>\n",
              "<table border=\"1\" class=\"dataframe\">\n",
              "  <thead>\n",
              "    <tr style=\"text-align: right;\">\n",
              "      <th></th>\n",
              "      <th>fixed acidity</th>\n",
              "      <th>volatile acidity</th>\n",
              "      <th>citric acid</th>\n",
              "      <th>residual sugar</th>\n",
              "      <th>chlorides</th>\n",
              "      <th>free sulfur dioxide</th>\n",
              "      <th>total sulfur dioxide</th>\n",
              "      <th>density</th>\n",
              "      <th>pH</th>\n",
              "      <th>sulphates</th>\n",
              "      <th>alcohol</th>\n",
              "      <th>quality</th>\n",
              "    </tr>\n",
              "  </thead>\n",
              "  <tbody>\n",
              "    <tr>\n",
              "      <th>0</th>\n",
              "      <td>7.0</td>\n",
              "      <td>0.27</td>\n",
              "      <td>0.36</td>\n",
              "      <td>20.7</td>\n",
              "      <td>0.045</td>\n",
              "      <td>45.0</td>\n",
              "      <td>170.0</td>\n",
              "      <td>1.00100</td>\n",
              "      <td>3.00</td>\n",
              "      <td>0.45</td>\n",
              "      <td>8.8</td>\n",
              "      <td>6</td>\n",
              "    </tr>\n",
              "    <tr>\n",
              "      <th>1</th>\n",
              "      <td>6.3</td>\n",
              "      <td>0.30</td>\n",
              "      <td>0.34</td>\n",
              "      <td>1.6</td>\n",
              "      <td>0.049</td>\n",
              "      <td>14.0</td>\n",
              "      <td>132.0</td>\n",
              "      <td>0.99400</td>\n",
              "      <td>3.30</td>\n",
              "      <td>0.49</td>\n",
              "      <td>9.5</td>\n",
              "      <td>6</td>\n",
              "    </tr>\n",
              "    <tr>\n",
              "      <th>2</th>\n",
              "      <td>8.1</td>\n",
              "      <td>0.28</td>\n",
              "      <td>0.40</td>\n",
              "      <td>6.9</td>\n",
              "      <td>0.050</td>\n",
              "      <td>30.0</td>\n",
              "      <td>97.0</td>\n",
              "      <td>0.99510</td>\n",
              "      <td>3.26</td>\n",
              "      <td>0.44</td>\n",
              "      <td>10.1</td>\n",
              "      <td>6</td>\n",
              "    </tr>\n",
              "    <tr>\n",
              "      <th>3</th>\n",
              "      <td>7.2</td>\n",
              "      <td>0.23</td>\n",
              "      <td>0.32</td>\n",
              "      <td>8.5</td>\n",
              "      <td>0.058</td>\n",
              "      <td>47.0</td>\n",
              "      <td>186.0</td>\n",
              "      <td>0.99560</td>\n",
              "      <td>3.19</td>\n",
              "      <td>0.40</td>\n",
              "      <td>9.9</td>\n",
              "      <td>6</td>\n",
              "    </tr>\n",
              "    <tr>\n",
              "      <th>4</th>\n",
              "      <td>7.2</td>\n",
              "      <td>0.23</td>\n",
              "      <td>0.32</td>\n",
              "      <td>8.5</td>\n",
              "      <td>0.058</td>\n",
              "      <td>47.0</td>\n",
              "      <td>186.0</td>\n",
              "      <td>0.99560</td>\n",
              "      <td>3.19</td>\n",
              "      <td>0.40</td>\n",
              "      <td>9.9</td>\n",
              "      <td>6</td>\n",
              "    </tr>\n",
              "    <tr>\n",
              "      <th>...</th>\n",
              "      <td>...</td>\n",
              "      <td>...</td>\n",
              "      <td>...</td>\n",
              "      <td>...</td>\n",
              "      <td>...</td>\n",
              "      <td>...</td>\n",
              "      <td>...</td>\n",
              "      <td>...</td>\n",
              "      <td>...</td>\n",
              "      <td>...</td>\n",
              "      <td>...</td>\n",
              "      <td>...</td>\n",
              "    </tr>\n",
              "    <tr>\n",
              "      <th>4893</th>\n",
              "      <td>6.2</td>\n",
              "      <td>0.21</td>\n",
              "      <td>0.29</td>\n",
              "      <td>1.6</td>\n",
              "      <td>0.039</td>\n",
              "      <td>24.0</td>\n",
              "      <td>92.0</td>\n",
              "      <td>0.99114</td>\n",
              "      <td>3.27</td>\n",
              "      <td>0.50</td>\n",
              "      <td>11.2</td>\n",
              "      <td>6</td>\n",
              "    </tr>\n",
              "    <tr>\n",
              "      <th>4894</th>\n",
              "      <td>6.6</td>\n",
              "      <td>0.32</td>\n",
              "      <td>0.36</td>\n",
              "      <td>8.0</td>\n",
              "      <td>0.047</td>\n",
              "      <td>57.0</td>\n",
              "      <td>168.0</td>\n",
              "      <td>0.99490</td>\n",
              "      <td>3.15</td>\n",
              "      <td>0.46</td>\n",
              "      <td>9.6</td>\n",
              "      <td>5</td>\n",
              "    </tr>\n",
              "    <tr>\n",
              "      <th>4895</th>\n",
              "      <td>6.5</td>\n",
              "      <td>0.24</td>\n",
              "      <td>0.19</td>\n",
              "      <td>1.2</td>\n",
              "      <td>0.041</td>\n",
              "      <td>30.0</td>\n",
              "      <td>111.0</td>\n",
              "      <td>0.99254</td>\n",
              "      <td>2.99</td>\n",
              "      <td>0.46</td>\n",
              "      <td>9.4</td>\n",
              "      <td>6</td>\n",
              "    </tr>\n",
              "    <tr>\n",
              "      <th>4896</th>\n",
              "      <td>5.5</td>\n",
              "      <td>0.29</td>\n",
              "      <td>0.30</td>\n",
              "      <td>1.1</td>\n",
              "      <td>0.022</td>\n",
              "      <td>20.0</td>\n",
              "      <td>110.0</td>\n",
              "      <td>0.98869</td>\n",
              "      <td>3.34</td>\n",
              "      <td>0.38</td>\n",
              "      <td>12.8</td>\n",
              "      <td>7</td>\n",
              "    </tr>\n",
              "    <tr>\n",
              "      <th>4897</th>\n",
              "      <td>6.0</td>\n",
              "      <td>0.21</td>\n",
              "      <td>0.38</td>\n",
              "      <td>0.8</td>\n",
              "      <td>0.020</td>\n",
              "      <td>22.0</td>\n",
              "      <td>98.0</td>\n",
              "      <td>0.98941</td>\n",
              "      <td>3.26</td>\n",
              "      <td>0.32</td>\n",
              "      <td>11.8</td>\n",
              "      <td>6</td>\n",
              "    </tr>\n",
              "  </tbody>\n",
              "</table>\n",
              "<p>4898 rows × 12 columns</p>\n",
              "</div>\n",
              "      <button class=\"colab-df-convert\" onclick=\"convertToInteractive('df-4e8352a7-10ff-4830-89fc-0809c4030740')\"\n",
              "              title=\"Convert this dataframe to an interactive table.\"\n",
              "              style=\"display:none;\">\n",
              "        \n",
              "  <svg xmlns=\"http://www.w3.org/2000/svg\" height=\"24px\"viewBox=\"0 0 24 24\"\n",
              "       width=\"24px\">\n",
              "    <path d=\"M0 0h24v24H0V0z\" fill=\"none\"/>\n",
              "    <path d=\"M18.56 5.44l.94 2.06.94-2.06 2.06-.94-2.06-.94-.94-2.06-.94 2.06-2.06.94zm-11 1L8.5 8.5l.94-2.06 2.06-.94-2.06-.94L8.5 2.5l-.94 2.06-2.06.94zm10 10l.94 2.06.94-2.06 2.06-.94-2.06-.94-.94-2.06-.94 2.06-2.06.94z\"/><path d=\"M17.41 7.96l-1.37-1.37c-.4-.4-.92-.59-1.43-.59-.52 0-1.04.2-1.43.59L10.3 9.45l-7.72 7.72c-.78.78-.78 2.05 0 2.83L4 21.41c.39.39.9.59 1.41.59.51 0 1.02-.2 1.41-.59l7.78-7.78 2.81-2.81c.8-.78.8-2.07 0-2.86zM5.41 20L4 18.59l7.72-7.72 1.47 1.35L5.41 20z\"/>\n",
              "  </svg>\n",
              "      </button>\n",
              "      \n",
              "  <style>\n",
              "    .colab-df-container {\n",
              "      display:flex;\n",
              "      flex-wrap:wrap;\n",
              "      gap: 12px;\n",
              "    }\n",
              "\n",
              "    .colab-df-convert {\n",
              "      background-color: #E8F0FE;\n",
              "      border: none;\n",
              "      border-radius: 50%;\n",
              "      cursor: pointer;\n",
              "      display: none;\n",
              "      fill: #1967D2;\n",
              "      height: 32px;\n",
              "      padding: 0 0 0 0;\n",
              "      width: 32px;\n",
              "    }\n",
              "\n",
              "    .colab-df-convert:hover {\n",
              "      background-color: #E2EBFA;\n",
              "      box-shadow: 0px 1px 2px rgba(60, 64, 67, 0.3), 0px 1px 3px 1px rgba(60, 64, 67, 0.15);\n",
              "      fill: #174EA6;\n",
              "    }\n",
              "\n",
              "    [theme=dark] .colab-df-convert {\n",
              "      background-color: #3B4455;\n",
              "      fill: #D2E3FC;\n",
              "    }\n",
              "\n",
              "    [theme=dark] .colab-df-convert:hover {\n",
              "      background-color: #434B5C;\n",
              "      box-shadow: 0px 1px 3px 1px rgba(0, 0, 0, 0.15);\n",
              "      filter: drop-shadow(0px 1px 2px rgba(0, 0, 0, 0.3));\n",
              "      fill: #FFFFFF;\n",
              "    }\n",
              "  </style>\n",
              "\n",
              "      <script>\n",
              "        const buttonEl =\n",
              "          document.querySelector('#df-4e8352a7-10ff-4830-89fc-0809c4030740 button.colab-df-convert');\n",
              "        buttonEl.style.display =\n",
              "          google.colab.kernel.accessAllowed ? 'block' : 'none';\n",
              "\n",
              "        async function convertToInteractive(key) {\n",
              "          const element = document.querySelector('#df-4e8352a7-10ff-4830-89fc-0809c4030740');\n",
              "          const dataTable =\n",
              "            await google.colab.kernel.invokeFunction('convertToInteractive',\n",
              "                                                     [key], {});\n",
              "          if (!dataTable) return;\n",
              "\n",
              "          const docLinkHtml = 'Like what you see? Visit the ' +\n",
              "            '<a target=\"_blank\" href=https://colab.research.google.com/notebooks/data_table.ipynb>data table notebook</a>'\n",
              "            + ' to learn more about interactive tables.';\n",
              "          element.innerHTML = '';\n",
              "          dataTable['output_type'] = 'display_data';\n",
              "          await google.colab.output.renderOutput(dataTable, element);\n",
              "          const docLink = document.createElement('div');\n",
              "          docLink.innerHTML = docLinkHtml;\n",
              "          element.appendChild(docLink);\n",
              "        }\n",
              "      </script>\n",
              "    </div>\n",
              "  </div>\n",
              "  "
            ]
          },
          "metadata": {},
          "execution_count": 3
        }
      ]
    },
    {
      "cell_type": "code",
      "metadata": {
        "scrolled": true,
        "id": "NKX6-HOA5Yt-",
        "colab": {
          "base_uri": "https://localhost:8080/"
        },
        "outputId": "f42b47d7-4c90-4e12-8123-6470d0fefa19"
      },
      "source": [
        "# κενές τιμές\n",
        "df_wine.isnull().sum()"
      ],
      "execution_count": null,
      "outputs": [
        {
          "output_type": "execute_result",
          "data": {
            "text/plain": [
              "fixed acidity           0\n",
              "volatile acidity        0\n",
              "citric acid             0\n",
              "residual sugar          0\n",
              "chlorides               0\n",
              "free sulfur dioxide     0\n",
              "total sulfur dioxide    0\n",
              "density                 0\n",
              "pH                      0\n",
              "sulphates               0\n",
              "alcohol                 0\n",
              "quality                 0\n",
              "dtype: int64"
            ]
          },
          "metadata": {},
          "execution_count": 4
        }
      ]
    },
    {
      "cell_type": "markdown",
      "metadata": {
        "id": "k_0oCicb5YuA"
      },
      "source": [
        "# 2. Προσθήκη τυχαίων διαστάσεων"
      ]
    },
    {
      "cell_type": "markdown",
      "metadata": {
        "id": "FYEPvWiZ5YuA"
      },
      "source": [
        "Τώρα θα δοκιμάσουμε τι θα συμβεί αν προσθέσουμε τυχαίες διαστάσεις στο σύνολο δεδομένων μας. Αυτό το κάνουμε προσθέτοντας επιπλέον στήλες τυχαίων τιμών στο dataframe μας."
      ]
    },
    {
      "cell_type": "code",
      "metadata": {
        "id": "Y0P6bZyE5YuB"
      },
      "source": [
        "#Δεδομένου ότι θα αλλάξουμε το dataframe μας, δημιουργούμε πρώτα ένα αντίγραφο, έτσι η αρχική μορφή του df_wine παραμένει όπως είναι\n",
        "df_wine_noise = df_wine.copy()\n",
        "\n",
        "# Δημιουργία τυχαίων δεδομένων (μέγεθος: όσο το μήκος του dataframe x, όσες διαστάσεις θέλουμε)\n",
        "random_data = np.random.randn(len(df_wine_noise), 5) #  μπορείτε να αλλάξετε τη δεύτερη τιμή, χρησιμοποιούμε 5 για τώρα\n",
        "\n",
        "# Μετατρέπουμε τα random data σε ένα df, για να καλέσουμε μετά το function 'df.join'\n",
        "random_data = pd.DataFrame(random_data)\n",
        "\n",
        "# Προσθήκη των δεδομένων που δημιουργήθηκαν με τυχαίες τιμές στο dataframe\n",
        "df_wine_noise = df_wine_noise.join(random_data)"
      ],
      "execution_count": null,
      "outputs": []
    },
    {
      "cell_type": "markdown",
      "metadata": {
        "id": "CwLJFqYO5YuD"
      },
      "source": [
        "Μπορούμε να δούμε τις επιπλέον στήλες στο dataframe:"
      ]
    },
    {
      "cell_type": "code",
      "metadata": {
        "id": "yUH4aT-c5YuE",
        "colab": {
          "base_uri": "https://localhost:8080/",
          "height": 522
        },
        "outputId": "9c65c16c-bbd6-4c05-e16d-233c730a1060"
      },
      "source": [
        "df_wine_noise"
      ],
      "execution_count": null,
      "outputs": [
        {
          "output_type": "execute_result",
          "data": {
            "text/plain": [
              "      fixed acidity  volatile acidity  citric acid  residual sugar  chlorides  \\\n",
              "0               7.0              0.27         0.36            20.7      0.045   \n",
              "1               6.3              0.30         0.34             1.6      0.049   \n",
              "2               8.1              0.28         0.40             6.9      0.050   \n",
              "3               7.2              0.23         0.32             8.5      0.058   \n",
              "4               7.2              0.23         0.32             8.5      0.058   \n",
              "...             ...               ...          ...             ...        ...   \n",
              "4893            6.2              0.21         0.29             1.6      0.039   \n",
              "4894            6.6              0.32         0.36             8.0      0.047   \n",
              "4895            6.5              0.24         0.19             1.2      0.041   \n",
              "4896            5.5              0.29         0.30             1.1      0.022   \n",
              "4897            6.0              0.21         0.38             0.8      0.020   \n",
              "\n",
              "      free sulfur dioxide  total sulfur dioxide  density    pH  sulphates  \\\n",
              "0                    45.0                 170.0  1.00100  3.00       0.45   \n",
              "1                    14.0                 132.0  0.99400  3.30       0.49   \n",
              "2                    30.0                  97.0  0.99510  3.26       0.44   \n",
              "3                    47.0                 186.0  0.99560  3.19       0.40   \n",
              "4                    47.0                 186.0  0.99560  3.19       0.40   \n",
              "...                   ...                   ...      ...   ...        ...   \n",
              "4893                 24.0                  92.0  0.99114  3.27       0.50   \n",
              "4894                 57.0                 168.0  0.99490  3.15       0.46   \n",
              "4895                 30.0                 111.0  0.99254  2.99       0.46   \n",
              "4896                 20.0                 110.0  0.98869  3.34       0.38   \n",
              "4897                 22.0                  98.0  0.98941  3.26       0.32   \n",
              "\n",
              "      alcohol  quality         0         1         2         3         4  \n",
              "0         8.8        6  0.779966  0.208938 -0.223763  0.770581 -1.629619  \n",
              "1         9.5        6 -0.750619 -1.186178 -2.381877 -0.204416 -1.299731  \n",
              "2        10.1        6 -0.519129  0.391313 -0.762561 -0.053086 -0.341878  \n",
              "3         9.9        6  0.518114  3.267158  1.101989  1.064767 -0.633538  \n",
              "4         9.9        6 -0.377725  0.597695  1.520285  1.603677  0.873671  \n",
              "...       ...      ...       ...       ...       ...       ...       ...  \n",
              "4893     11.2        6 -0.971215  1.146192  0.801261 -0.962106  0.044202  \n",
              "4894      9.6        5  0.536003  0.828821 -0.756157 -1.552337  0.639806  \n",
              "4895      9.4        6 -0.502423 -2.366431  0.662227 -0.078113  1.130591  \n",
              "4896     12.8        7  0.244960 -1.707435  0.030694  0.408566 -1.147405  \n",
              "4897     11.8        6 -0.408672 -1.333935 -0.269327 -0.719014  1.082191  \n",
              "\n",
              "[4898 rows x 17 columns]"
            ],
            "text/html": [
              "\n",
              "  <div id=\"df-98a194ed-8f7e-4778-8996-5fec018ebb5e\">\n",
              "    <div class=\"colab-df-container\">\n",
              "      <div>\n",
              "<style scoped>\n",
              "    .dataframe tbody tr th:only-of-type {\n",
              "        vertical-align: middle;\n",
              "    }\n",
              "\n",
              "    .dataframe tbody tr th {\n",
              "        vertical-align: top;\n",
              "    }\n",
              "\n",
              "    .dataframe thead th {\n",
              "        text-align: right;\n",
              "    }\n",
              "</style>\n",
              "<table border=\"1\" class=\"dataframe\">\n",
              "  <thead>\n",
              "    <tr style=\"text-align: right;\">\n",
              "      <th></th>\n",
              "      <th>fixed acidity</th>\n",
              "      <th>volatile acidity</th>\n",
              "      <th>citric acid</th>\n",
              "      <th>residual sugar</th>\n",
              "      <th>chlorides</th>\n",
              "      <th>free sulfur dioxide</th>\n",
              "      <th>total sulfur dioxide</th>\n",
              "      <th>density</th>\n",
              "      <th>pH</th>\n",
              "      <th>sulphates</th>\n",
              "      <th>alcohol</th>\n",
              "      <th>quality</th>\n",
              "      <th>0</th>\n",
              "      <th>1</th>\n",
              "      <th>2</th>\n",
              "      <th>3</th>\n",
              "      <th>4</th>\n",
              "    </tr>\n",
              "  </thead>\n",
              "  <tbody>\n",
              "    <tr>\n",
              "      <th>0</th>\n",
              "      <td>7.0</td>\n",
              "      <td>0.27</td>\n",
              "      <td>0.36</td>\n",
              "      <td>20.7</td>\n",
              "      <td>0.045</td>\n",
              "      <td>45.0</td>\n",
              "      <td>170.0</td>\n",
              "      <td>1.00100</td>\n",
              "      <td>3.00</td>\n",
              "      <td>0.45</td>\n",
              "      <td>8.8</td>\n",
              "      <td>6</td>\n",
              "      <td>0.779966</td>\n",
              "      <td>0.208938</td>\n",
              "      <td>-0.223763</td>\n",
              "      <td>0.770581</td>\n",
              "      <td>-1.629619</td>\n",
              "    </tr>\n",
              "    <tr>\n",
              "      <th>1</th>\n",
              "      <td>6.3</td>\n",
              "      <td>0.30</td>\n",
              "      <td>0.34</td>\n",
              "      <td>1.6</td>\n",
              "      <td>0.049</td>\n",
              "      <td>14.0</td>\n",
              "      <td>132.0</td>\n",
              "      <td>0.99400</td>\n",
              "      <td>3.30</td>\n",
              "      <td>0.49</td>\n",
              "      <td>9.5</td>\n",
              "      <td>6</td>\n",
              "      <td>-0.750619</td>\n",
              "      <td>-1.186178</td>\n",
              "      <td>-2.381877</td>\n",
              "      <td>-0.204416</td>\n",
              "      <td>-1.299731</td>\n",
              "    </tr>\n",
              "    <tr>\n",
              "      <th>2</th>\n",
              "      <td>8.1</td>\n",
              "      <td>0.28</td>\n",
              "      <td>0.40</td>\n",
              "      <td>6.9</td>\n",
              "      <td>0.050</td>\n",
              "      <td>30.0</td>\n",
              "      <td>97.0</td>\n",
              "      <td>0.99510</td>\n",
              "      <td>3.26</td>\n",
              "      <td>0.44</td>\n",
              "      <td>10.1</td>\n",
              "      <td>6</td>\n",
              "      <td>-0.519129</td>\n",
              "      <td>0.391313</td>\n",
              "      <td>-0.762561</td>\n",
              "      <td>-0.053086</td>\n",
              "      <td>-0.341878</td>\n",
              "    </tr>\n",
              "    <tr>\n",
              "      <th>3</th>\n",
              "      <td>7.2</td>\n",
              "      <td>0.23</td>\n",
              "      <td>0.32</td>\n",
              "      <td>8.5</td>\n",
              "      <td>0.058</td>\n",
              "      <td>47.0</td>\n",
              "      <td>186.0</td>\n",
              "      <td>0.99560</td>\n",
              "      <td>3.19</td>\n",
              "      <td>0.40</td>\n",
              "      <td>9.9</td>\n",
              "      <td>6</td>\n",
              "      <td>0.518114</td>\n",
              "      <td>3.267158</td>\n",
              "      <td>1.101989</td>\n",
              "      <td>1.064767</td>\n",
              "      <td>-0.633538</td>\n",
              "    </tr>\n",
              "    <tr>\n",
              "      <th>4</th>\n",
              "      <td>7.2</td>\n",
              "      <td>0.23</td>\n",
              "      <td>0.32</td>\n",
              "      <td>8.5</td>\n",
              "      <td>0.058</td>\n",
              "      <td>47.0</td>\n",
              "      <td>186.0</td>\n",
              "      <td>0.99560</td>\n",
              "      <td>3.19</td>\n",
              "      <td>0.40</td>\n",
              "      <td>9.9</td>\n",
              "      <td>6</td>\n",
              "      <td>-0.377725</td>\n",
              "      <td>0.597695</td>\n",
              "      <td>1.520285</td>\n",
              "      <td>1.603677</td>\n",
              "      <td>0.873671</td>\n",
              "    </tr>\n",
              "    <tr>\n",
              "      <th>...</th>\n",
              "      <td>...</td>\n",
              "      <td>...</td>\n",
              "      <td>...</td>\n",
              "      <td>...</td>\n",
              "      <td>...</td>\n",
              "      <td>...</td>\n",
              "      <td>...</td>\n",
              "      <td>...</td>\n",
              "      <td>...</td>\n",
              "      <td>...</td>\n",
              "      <td>...</td>\n",
              "      <td>...</td>\n",
              "      <td>...</td>\n",
              "      <td>...</td>\n",
              "      <td>...</td>\n",
              "      <td>...</td>\n",
              "      <td>...</td>\n",
              "    </tr>\n",
              "    <tr>\n",
              "      <th>4893</th>\n",
              "      <td>6.2</td>\n",
              "      <td>0.21</td>\n",
              "      <td>0.29</td>\n",
              "      <td>1.6</td>\n",
              "      <td>0.039</td>\n",
              "      <td>24.0</td>\n",
              "      <td>92.0</td>\n",
              "      <td>0.99114</td>\n",
              "      <td>3.27</td>\n",
              "      <td>0.50</td>\n",
              "      <td>11.2</td>\n",
              "      <td>6</td>\n",
              "      <td>-0.971215</td>\n",
              "      <td>1.146192</td>\n",
              "      <td>0.801261</td>\n",
              "      <td>-0.962106</td>\n",
              "      <td>0.044202</td>\n",
              "    </tr>\n",
              "    <tr>\n",
              "      <th>4894</th>\n",
              "      <td>6.6</td>\n",
              "      <td>0.32</td>\n",
              "      <td>0.36</td>\n",
              "      <td>8.0</td>\n",
              "      <td>0.047</td>\n",
              "      <td>57.0</td>\n",
              "      <td>168.0</td>\n",
              "      <td>0.99490</td>\n",
              "      <td>3.15</td>\n",
              "      <td>0.46</td>\n",
              "      <td>9.6</td>\n",
              "      <td>5</td>\n",
              "      <td>0.536003</td>\n",
              "      <td>0.828821</td>\n",
              "      <td>-0.756157</td>\n",
              "      <td>-1.552337</td>\n",
              "      <td>0.639806</td>\n",
              "    </tr>\n",
              "    <tr>\n",
              "      <th>4895</th>\n",
              "      <td>6.5</td>\n",
              "      <td>0.24</td>\n",
              "      <td>0.19</td>\n",
              "      <td>1.2</td>\n",
              "      <td>0.041</td>\n",
              "      <td>30.0</td>\n",
              "      <td>111.0</td>\n",
              "      <td>0.99254</td>\n",
              "      <td>2.99</td>\n",
              "      <td>0.46</td>\n",
              "      <td>9.4</td>\n",
              "      <td>6</td>\n",
              "      <td>-0.502423</td>\n",
              "      <td>-2.366431</td>\n",
              "      <td>0.662227</td>\n",
              "      <td>-0.078113</td>\n",
              "      <td>1.130591</td>\n",
              "    </tr>\n",
              "    <tr>\n",
              "      <th>4896</th>\n",
              "      <td>5.5</td>\n",
              "      <td>0.29</td>\n",
              "      <td>0.30</td>\n",
              "      <td>1.1</td>\n",
              "      <td>0.022</td>\n",
              "      <td>20.0</td>\n",
              "      <td>110.0</td>\n",
              "      <td>0.98869</td>\n",
              "      <td>3.34</td>\n",
              "      <td>0.38</td>\n",
              "      <td>12.8</td>\n",
              "      <td>7</td>\n",
              "      <td>0.244960</td>\n",
              "      <td>-1.707435</td>\n",
              "      <td>0.030694</td>\n",
              "      <td>0.408566</td>\n",
              "      <td>-1.147405</td>\n",
              "    </tr>\n",
              "    <tr>\n",
              "      <th>4897</th>\n",
              "      <td>6.0</td>\n",
              "      <td>0.21</td>\n",
              "      <td>0.38</td>\n",
              "      <td>0.8</td>\n",
              "      <td>0.020</td>\n",
              "      <td>22.0</td>\n",
              "      <td>98.0</td>\n",
              "      <td>0.98941</td>\n",
              "      <td>3.26</td>\n",
              "      <td>0.32</td>\n",
              "      <td>11.8</td>\n",
              "      <td>6</td>\n",
              "      <td>-0.408672</td>\n",
              "      <td>-1.333935</td>\n",
              "      <td>-0.269327</td>\n",
              "      <td>-0.719014</td>\n",
              "      <td>1.082191</td>\n",
              "    </tr>\n",
              "  </tbody>\n",
              "</table>\n",
              "<p>4898 rows × 17 columns</p>\n",
              "</div>\n",
              "      <button class=\"colab-df-convert\" onclick=\"convertToInteractive('df-98a194ed-8f7e-4778-8996-5fec018ebb5e')\"\n",
              "              title=\"Convert this dataframe to an interactive table.\"\n",
              "              style=\"display:none;\">\n",
              "        \n",
              "  <svg xmlns=\"http://www.w3.org/2000/svg\" height=\"24px\"viewBox=\"0 0 24 24\"\n",
              "       width=\"24px\">\n",
              "    <path d=\"M0 0h24v24H0V0z\" fill=\"none\"/>\n",
              "    <path d=\"M18.56 5.44l.94 2.06.94-2.06 2.06-.94-2.06-.94-.94-2.06-.94 2.06-2.06.94zm-11 1L8.5 8.5l.94-2.06 2.06-.94-2.06-.94L8.5 2.5l-.94 2.06-2.06.94zm10 10l.94 2.06.94-2.06 2.06-.94-2.06-.94-.94-2.06-.94 2.06-2.06.94z\"/><path d=\"M17.41 7.96l-1.37-1.37c-.4-.4-.92-.59-1.43-.59-.52 0-1.04.2-1.43.59L10.3 9.45l-7.72 7.72c-.78.78-.78 2.05 0 2.83L4 21.41c.39.39.9.59 1.41.59.51 0 1.02-.2 1.41-.59l7.78-7.78 2.81-2.81c.8-.78.8-2.07 0-2.86zM5.41 20L4 18.59l7.72-7.72 1.47 1.35L5.41 20z\"/>\n",
              "  </svg>\n",
              "      </button>\n",
              "      \n",
              "  <style>\n",
              "    .colab-df-container {\n",
              "      display:flex;\n",
              "      flex-wrap:wrap;\n",
              "      gap: 12px;\n",
              "    }\n",
              "\n",
              "    .colab-df-convert {\n",
              "      background-color: #E8F0FE;\n",
              "      border: none;\n",
              "      border-radius: 50%;\n",
              "      cursor: pointer;\n",
              "      display: none;\n",
              "      fill: #1967D2;\n",
              "      height: 32px;\n",
              "      padding: 0 0 0 0;\n",
              "      width: 32px;\n",
              "    }\n",
              "\n",
              "    .colab-df-convert:hover {\n",
              "      background-color: #E2EBFA;\n",
              "      box-shadow: 0px 1px 2px rgba(60, 64, 67, 0.3), 0px 1px 3px 1px rgba(60, 64, 67, 0.15);\n",
              "      fill: #174EA6;\n",
              "    }\n",
              "\n",
              "    [theme=dark] .colab-df-convert {\n",
              "      background-color: #3B4455;\n",
              "      fill: #D2E3FC;\n",
              "    }\n",
              "\n",
              "    [theme=dark] .colab-df-convert:hover {\n",
              "      background-color: #434B5C;\n",
              "      box-shadow: 0px 1px 3px 1px rgba(0, 0, 0, 0.15);\n",
              "      filter: drop-shadow(0px 1px 2px rgba(0, 0, 0, 0.3));\n",
              "      fill: #FFFFFF;\n",
              "    }\n",
              "  </style>\n",
              "\n",
              "      <script>\n",
              "        const buttonEl =\n",
              "          document.querySelector('#df-98a194ed-8f7e-4778-8996-5fec018ebb5e button.colab-df-convert');\n",
              "        buttonEl.style.display =\n",
              "          google.colab.kernel.accessAllowed ? 'block' : 'none';\n",
              "\n",
              "        async function convertToInteractive(key) {\n",
              "          const element = document.querySelector('#df-98a194ed-8f7e-4778-8996-5fec018ebb5e');\n",
              "          const dataTable =\n",
              "            await google.colab.kernel.invokeFunction('convertToInteractive',\n",
              "                                                     [key], {});\n",
              "          if (!dataTable) return;\n",
              "\n",
              "          const docLinkHtml = 'Like what you see? Visit the ' +\n",
              "            '<a target=\"_blank\" href=https://colab.research.google.com/notebooks/data_table.ipynb>data table notebook</a>'\n",
              "            + ' to learn more about interactive tables.';\n",
              "          element.innerHTML = '';\n",
              "          dataTable['output_type'] = 'display_data';\n",
              "          await google.colab.output.renderOutput(dataTable, element);\n",
              "          const docLink = document.createElement('div');\n",
              "          docLink.innerHTML = docLinkHtml;\n",
              "          element.appendChild(docLink);\n",
              "        }\n",
              "      </script>\n",
              "    </div>\n",
              "  </div>\n",
              "  "
            ]
          },
          "metadata": {},
          "execution_count": 7
        }
      ]
    },
    {
      "cell_type": "markdown",
      "metadata": {
        "id": "voytF_vf5YuG"
      },
      "source": [
        "# 3. Δοκιμή"
      ]
    },
    {
      "cell_type": "markdown",
      "metadata": {
        "id": "DtPV_Mnz5YuG"
      },
      "source": [
        "Αυτοματοποιούμε τη διαδικασία προσθήκης τυχαίων διαστάσεων στο σύνολο των δεδομένων μας και βλέπουμε πώς επηρεάζει τις προβλέψεις σε διαφορετικά μοντέλα. Χρησιμοποιούμε την ακόλουθη λίστα διαστάσεων για να προσθέσουμε: [0, 1, 2, 5, 10, 20, 50, 100, 200, 500]\n",
        "\n",
        "\n",
        "\n",
        "*Σε περίπτωση που αναρωτιέστε: στον κώδικα παρακάτω θέτουμε μια τυχαία κατάσταση (random state) πολλές φορές. Με αυτόν τον τρόπο τα ίδια τυχαία δεδομένα δημιουργούνται κάθε φορά. Αυτό μας βοηθά να συγκρίνουμε τα τρία μοντέλα, εφόσον όλα πήραν τα ίδια τυχαία δεδομένα με για είσοδο.*"
      ]
    },
    {
      "cell_type": "markdown",
      "metadata": {
        "id": "aygPFxD25YuH"
      },
      "source": [
        "## 3.1 Γραμμική παλινδρόμηση\n",
        "\n",
        "Αυτοματοποιούμε τη διαδικασία προσθήκης τυχαίων διαστάσεων στο σύνολο των δεδομένων μας και βλέπουμε πώς επηρεάζει τις προβλέψεις με το μοντέλο γραμμικής παλινδρόμησης. Χρησιμοποιούμε την ακόλουθη λίστα διαστάσεων για να προσθέσουμε:\n",
        "[0, 1, 2, 5, 10, 20, 50, 100, 200, 500]"
      ]
    },
    {
      "cell_type": "code",
      "metadata": {
        "id": "WUC-uhYf5YuH"
      },
      "source": [
        "# Προετοιμασία κενής λίστας (συμπληρώνεται με τους μέσους όρους των αποτελέσματων στη συνέχεια)\n",
        "ls_r2_test_lin_regr = []\n",
        "ls_r2_train_lin_regr = []\n",
        "\n",
        "# δοκιμή διαφορετικού αριθμού τυχαίων διαστάσεων\n",
        "ls_dim = [0, 1, 2, 5, 10, 20, 50, 100, 200, 500]\n",
        "\n",
        "# Λούπα πάνω από τη λίστα των τυχαίων διαστάσεων\n",
        "for dimension in ls_dim:\n",
        "    # Δημιουργία αντιγράφου του πρωτοτύπου df_wine\n",
        "    df_wine_noise = df_wine.copy()\n",
        "    # κατασκευάζει τις τυχαίες διαστάσεις (μέγεθος: length of dataframe x current dimensions)\n",
        "    # Αυτός ο κώδικας είναι απαραίτητος για να δημιουργείτε πάντα τα ίδια τυχαία δεδομένα\n",
        "    random_data = np.random.RandomState(0).randn(dimension,len(df_wine_noise)).T\n",
        "    # Μετατρέψτε random_data σε dataframe\n",
        "    random_data = pd.DataFrame(random_data)\n",
        "    random_data.columns = random_data.columns.astype(str)\n",
        "    # Προσθέστε τα δεδομένα που δημιουργήθηκαν με τυχαίες τιμές στο dataframe\n",
        "    df_wine_noise = df_wine_noise.join(random_data)\n",
        "    # Δημιουργία Regressor\n",
        "    lin_regr = LinearRegression()\n",
        "    # Ορισμός X και y σε κάθε λούπα, επειδή έχουμε ένα νέο dataframe (με τυχαίες στήλες) σε κάθε λούπα\n",
        "    X = df_wine_noise.drop(columns='quality')\n",
        "    y = df_wine_noise.quality\n",
        "    # 1. Split data σε training και test set\n",
        "    X_train, X_test, y_train, y_test = train_test_split(X,y, random_state=0)\n",
        "    # 2. Fitting το Regression\n",
        "    lin_regr.fit(X_train, y_train)\n",
        "    # 3. Test τον regressor με τα test data (και τα training data για να τα συγκρίνουμε)\n",
        "    y_pred_test = lin_regr.predict(X_test)\n",
        "    y_pred_train = lin_regr.predict(X_train)\n",
        "    # 4. υπολογισμός μετρικών (π.χ. r2)\n",
        "    r2_test = r2_score(y_test, y_pred_test)\n",
        "    r2_train = r2_score(y_train, y_pred_train)\n",
        "    # 5. Προσάρτηση του score σε λίστα\n",
        "    ls_r2_test_lin_regr.append(r2_test)\n",
        "    ls_r2_train_lin_regr.append(r2_train)"
      ],
      "execution_count": null,
      "outputs": []
    },
    {
      "cell_type": "code",
      "metadata": {
        "id": "yNqMrISe5YuK",
        "colab": {
          "base_uri": "https://localhost:8080/",
          "height": 472
        },
        "outputId": "0ed266f7-ba70-4854-c259-a01fcab1bf34"
      },
      "source": [
        "# plot των τιμών R2 στα διαφορετικά depths\n",
        "plt.plot(ls_dim, ls_r2_train_lin_regr, label=\"Training data\")\n",
        "plt.plot(ls_dim, ls_r2_test_lin_regr, label=\"Testing data\")\n",
        "plt.title('Linear Regression')\n",
        "plt.xlabel('Number of random dimensions')\n",
        "plt.ylabel('R²')\n",
        "plt.legend()\n",
        "plt.show()"
      ],
      "execution_count": null,
      "outputs": [
        {
          "output_type": "display_data",
          "data": {
            "text/plain": [
              "<Figure size 640x480 with 1 Axes>"
            ],
            "image/png": "[encoded data removed]"
          },
          "metadata": {}
        }
      ]
    },
    {
      "cell_type": "markdown",
      "metadata": {
        "id": "zXDpRxPF5YuM"
      },
      "source": [
        "## 3.2 Δέντρο αποφάσεων\n",
        "\n",
        "Αυτοματοποιούμε τη διαδικασία προσθήκης τυχαίων διαστάσεων στο σύνολο των δεδομένων μας και βλέπουμε πώς επηρεάζει τις προβλέψεις με το μοντέλο του δέντρου αποφάσεων. Χρησιμοποιούμε την ακόλουθη λίστα διαστάσεων για να προσθέσουμε:\n",
        "[0, 1, 2, 5, 10, 20, 50, 100, 200, 500]"
      ]
    },
    {
      "cell_type": "code",
      "metadata": {
        "id": "KixbuFYe5YuM"
      },
      "source": [
        "# Προετοιμασία κενής λίστας (συμπληρώνεται με τους μέσους όρους των αποτελέσματων στη συνέχεια)\n",
        "ls_r2_test_dec_tree = []\n",
        "ls_r2_train_dec_tree = []\n",
        "\n",
        "# δοκιμή διαφορετικού αριθμού τυχαίων διαστάσεων\n",
        "ls_dim = [0, 1, 2, 5, 10, 20, 50, 100, 200, 500]\n",
        "\n",
        "# Λούπα πάνω από τη λίστα των τυχαίων διαστάσεων\n",
        "for dimension in ls_dim:\n",
        "    # Δημιουργία αντιγράφου του πρωτοτύπου df_wine\n",
        "    df_wine_noise = df_wine.copy()\n",
        "    # κατασκευάζει τις τυχαίες διαστάσεις (μέγεθος: length of dataframe x current dimensions)\n",
        "    # Αυτός ο κώδικας είναι απαραίτητος για να δημιουργείτε πάντα τα ίδια τυχαία δεδομένα\n",
        "    random_data = np.random.RandomState(0).randn(dimension,len(df_wine_noise)).T\n",
        "    # Μετατρέψτε random_data σε dataframe\n",
        "    random_data = pd.DataFrame(random_data)\n",
        "    random_data.columns = random_data.columns.astype(str)\n",
        "    # Προσθέστε τα δεδομένα που δημιουργήθηκαν με τυχαίες τιμές στο dataframe\n",
        "    df_wine_noise = df_wine_noise.join(random_data)\n",
        "    # Δημιουργία του Regressor, με max_depth=6, αφού στην άσκηση 6 αυτό ήταν το βέλτιστο\n",
        "    dec_tree = DecisionTreeRegressor(max_depth=6)\n",
        "    # Ορισμός X και y σε κάθε λούπα, επειδή έχουμε ένα νέο dataframe (με τυχαίες στήλες) σε κάθε λούπα\n",
        "    X = df_wine_noise.drop(columns='quality')\n",
        "    y = df_wine_noise.quality\n",
        "    # 1. Split data σε training και test set\n",
        "    X_train, X_test, y_train, y_test = train_test_split(X,y, random_state=0)\n",
        "    # 2. Fitting το Regression\n",
        "    dec_tree.fit(X_train, y_train)\n",
        "    # 3. Test τον regressor με τα test data (και τα training data για να τα συγκρίνουμε)\n",
        "    y_pred_test = dec_tree.predict(X_test)\n",
        "    y_pred_train = dec_tree.predict(X_train)\n",
        "    # 4. υπολογισμός μετρικών (π.χ. r2)\n",
        "    r2_test = r2_score(y_test, y_pred_test)\n",
        "    r2_train = r2_score(y_train, y_pred_train)\n",
        "    # 5. Προσάρτηση του score σε λίστα\n",
        "    ls_r2_test_dec_tree.append(r2_test)\n",
        "    ls_r2_train_dec_tree.append(r2_train)"
      ],
      "execution_count": null,
      "outputs": []
    },
    {
      "cell_type": "code",
      "metadata": {
        "id": "k7p1FV6h5YuP",
        "colab": {
          "base_uri": "https://localhost:8080/",
          "height": 472
        },
        "outputId": "779133bc-62c2-48f6-c7e2-94c0050bdda8"
      },
      "source": [
        "# plot των τιμών R2 στα διαφορετικά depths\n",
        "plt.plot(ls_dim, ls_r2_train_dec_tree, label=\"Training data\")\n",
        "plt.plot(ls_dim, ls_r2_test_dec_tree, label=\"Testing data\")\n",
        "plt.title('Decision Tree')\n",
        "plt.xlabel('Number of random dimensions')\n",
        "plt.ylabel('R²')\n",
        "plt.legend()\n",
        "plt.show()"
      ],
      "execution_count": null,
      "outputs": [
        {
          "output_type": "display_data",
          "data": {
            "text/plain": [
              "<Figure size 640x480 with 1 Axes>"
            ],
            "image/png": "[encoded data removed]"
          },
          "metadata": {}
        }
      ]
    },
    {
      "cell_type": "markdown",
      "metadata": {
        "id": "2w1kY0d25YuR"
      },
      "source": [
        "## 3.3 Τυχαίο Δάσος\n",
        "Αυτοματοποιούμε τη διαδικασία προσθήκης τυχαίων διαστάσεων στο σύνολο των δεδομένων μας και βλέπουμε πώς επηρεάζει τις προβλέψεις με το μοντέλο του τυχαίου δάσους. Χρησιμοποιούμε την ακόλουθη λίστα διαστάσεων για να προσθέσουμε:\n",
        "[0, 1, 2, 5, 10, 20, 50, 100, 200, 500]"
      ]
    },
    {
      "cell_type": "code",
      "metadata": {
        "id": "Q2mqGt2G5YuS"
      },
      "source": [
        "# Προετοιμασία κενής λίστας (συμπληρώνεται με τους μέσους όρους των αποτελέσματων στη συνέχεια)\n",
        "ls_r2_test_rf_regr = []\n",
        "ls_r2_train_rf_regr = []\n",
        "\n",
        "# δοκιμή διαφορετικού αριθμού τυχαίων διαστάσεων\n",
        "ls_dim = [0, 1, 2, 5, 10, 20, 50, 100, 200, 500]\n",
        "\n",
        "# Λούπα πάνω από τη λίστα των τυχαίων διαστάσεων\n",
        "for dimension in ls_dim:\n",
        "    # Δημιουργία αντιγράφου του πρωτοτύπου df_wine\n",
        "    df_wine_noise = df_wine.copy()\n",
        "    # κατασκευάζει τις τυχαίες διαστάσεις (μέγεθος: length of dataframe x current dimensions)\n",
        "    # Αυτός ο κώδικας είναι απαραίτητος για να δημιουργείτε πάντα τα ίδια τυχαία δεδομένα\n",
        "    random_data = np.random.RandomState(0).randn(dimension,len(df_wine_noise)).T\n",
        "    # Μετατρέψτε random_data σε dataframe\n",
        "    random_data = pd.DataFrame(random_data)\n",
        "    random_data.columns = random_data.columns.astype(str)\n",
        "    # Προσθέστε τα δεδομένα που δημιουργήθηκαν με τυχαίες τιμές στο dataframe\n",
        "    df_wine_noise = df_wine_noise.join(random_data)\n",
        "    # Δημιουργία του Regressor, περιορίζει τα n_estimators μόνο για τη μείωση του χρόνου υπολογισμού\n",
        "    rf_regr = RandomForestRegressor(n_estimators=20)\n",
        "    # Ορισμός X και y σε κάθε λούπα, επειδή έχουμε ένα νέο dataframe (με τυχαίες στήλες) σε κάθε λούπα\n",
        "    X = df_wine_noise.drop(columns='quality')\n",
        "    y = df_wine_noise.quality\n",
        "    # 1. Split data σε training και test set\n",
        "    X_train, X_test, y_train, y_test = train_test_split(X,y, random_state=0)\n",
        "    # 2. Fitting το Regression\n",
        "    rf_regr.fit(X_train, y_train)\n",
        "    # 3. Test τον regressor με τα test data (και τα training data για να τα συγκρίνουμε)\n",
        "    y_pred_test = rf_regr.predict(X_test)\n",
        "    y_pred_train = rf_regr.predict(X_train)\n",
        "    # 4. Yπολογισμός μετρικών (π.χ. r2)\n",
        "    r2_test = r2_score(y_test, y_pred_test)\n",
        "    r2_train = r2_score(y_train, y_pred_train)\n",
        "    # 5. Προσάρτηση του score σε λίστα\n",
        "    ls_r2_test_rf_regr.append(r2_test)\n",
        "    ls_r2_train_rf_regr.append(r2_train)"
      ],
      "execution_count": null,
      "outputs": []
    },
    {
      "cell_type": "code",
      "metadata": {
        "scrolled": false,
        "id": "FpF8_jAS5YuU",
        "colab": {
          "base_uri": "https://localhost:8080/",
          "height": 472
        },
        "outputId": "33917696-87e6-4b31-b333-b86647b255bc"
      },
      "source": [
        "# plot των τιμών R2 στα διαφορετικά depths\n",
        "plt.plot(ls_dim, ls_r2_train_rf_regr, label=\"Training data\")\n",
        "plt.plot(ls_dim, ls_r2_test_rf_regr, label=\"Testing data\")\n",
        "plt.title('Random Forest')\n",
        "plt.xlabel('Number of random dimensions')\n",
        "plt.ylabel('R²')\n",
        "plt.legend()\n",
        "plt.show()"
      ],
      "execution_count": null,
      "outputs": [
        {
          "output_type": "display_data",
          "data": {
            "text/plain": [
              "<Figure size 640x480 with 1 Axes>"
            ],
            "image/png": "[encoded data removed]"
          },
          "metadata": {}
        }
      ]
    },
    {
      "cell_type": "markdown",
      "metadata": {
        "id": "ILQhox8X5YuW"
      },
      "source": [
        "Τα αποτελέσματα δείχνουν ότι οι διάστασεις εισόδου που δεν φέρουν σημαντικές πληροφορίες (μόνο τυχαία δεδομένα) θα επιδεινώσει τα αποτελέσματα των προβλέψεών μας. Βλέπουμε επίσης ότι ορισμένες μέθοδοι είναι πιο ευαίσθητες από άλλες. Δηλαδή, η πρόβλεψη του δέντρου αποφάσεων πέφτει πολύ γρήγορα με τον αριθμό των διαστάσεις εισόδου που δεν φέρουν κανένα νόημα, ενώ η γραμμική παλινδρόμηση είναι πιο ανθεκτική και πέφτει πιο αργά. Ωστόσο, και οι δύο μέθοδοι φτάνουν σε 0.15 R² με 500 τυχαίες διαστάσεις. Το τυχαίο δάσος αποδεικνύεται ως η πιο ανθεκτική (robust) μέθοδος. Ακόμη και με 500 τυχαίες διαστάσεις εισόδου, η μέθοδος μπορεί να επιτύχει περίπου 0,25 R²."
      ]
    },
    {
      "cell_type": "markdown",
      "metadata": {
        "id": "LlubhVq25YuX"
      },
      "source": [
        "# 4. Άσκηση\n",
        "\n",
        "\n",
        "Για την επόμενη φορά θα έχετε δύο ασκήσεις. Μπορείτε να τις λύσετε **σε αυτό το notebook**, δεν χρειάζεται να δημιουργήσετε ένα νέο.\n",
        "\n",
        " - Προσθέστε 1000 και περισσότερες διαστάσεις και στα τρία μοντέλα και εκτελέστε τα.\n",
        "\n",
        " - Δημιουργήστε ένα νέο plot με τα αποτελέσματα (μόνο τα testing data χρειάζονται) και των τριών διαφορετικών μοντέλων στο ίδιο γράφημα. Βοήθεια: Ο κώδικας είναι ακριβώς ο ίδιος με επάνω, οπότε πρακτικά έχετε ήδη έτοιμα τα  R² values και σωσμένα σε λίστες. Δεν χρειάζεται να υπολογίζετε νέες τιμές για το plot. Γράψτε μια παράγραφο με τα αποτελέσματά σας."
      ]
    },
    {
      "cell_type": "markdown",
      "source": [
        "Γραμμική παλινδρόμηση"
      ],
      "metadata": {
        "id": "h05LDvGaCoDt"
      }
    },
    {
      "cell_type": "code",
      "source": [
        "# Προετοιμασία κενής λίστας (συμπληρώνεται με τους μέσους όρους των αποτελέσματων στη συνέχεια)\n",
        "ls_r2_test_lin_regr = []\n",
        "ls_r2_train_lin_regr = []\n",
        "\n",
        "# δοκιμή διαφορετικού αριθμού τυχαίων διαστάσεων\n",
        "ls_dim = [0, 1, 2, 5, 10, 20, 50, 100, 200, 500, 1000, 1500]\n",
        "\n",
        "# Λούπα πάνω από τη λίστα των τυχαίων διαστάσεων\n",
        "for dimension in ls_dim:\n",
        "    # Δημιουργία αντιγράφου του πρωτοτύπου df_wine\n",
        "    df_wine_noise = df_wine.copy()\n",
        "    # κατασκευάζει τις τυχαίες διαστάσεις (μέγεθος: length of dataframe x current dimensions)\n",
        "    # Αυτός ο κώδικας είναι απαραίτητος για να δημιουργείτε πάντα τα ίδια τυχαία δεδομένα\n",
        "    random_data = np.random.RandomState(0).randn(dimension,len(df_wine_noise)).T\n",
        "    # Μετατρέψτε random_data σε dataframe\n",
        "    random_data = pd.DataFrame(random_data)\n",
        "    random_data.columns = random_data.columns.astype(str)\n",
        "    # Προσθέστε τα δεδομένα που δημιουργήθηκαν με τυχαίες τιμές στο dataframe\n",
        "    df_wine_noise = df_wine_noise.join(random_data)\n",
        "    # Δημιουργία Regressor\n",
        "    lin_regr = LinearRegression()\n",
        "    # Ορισμός X και y σε κάθε λούπα, επειδή έχουμε ένα νέο dataframe (με τυχαίες στήλες) σε κάθε λούπα\n",
        "    X = df_wine_noise.drop(columns='quality')\n",
        "    y = df_wine_noise.quality\n",
        "    # 1. Split data σε training και test set\n",
        "    X_train, X_test, y_train, y_test = train_test_split(X,y, random_state=0)\n",
        "    # 2. Fitting το Regression\n",
        "    lin_regr.fit(X_train, y_train)\n",
        "    # 3. Test τον regressor με τα test data (και τα training data για να τα συγκρίνουμε)\n",
        "    y_pred_test = lin_regr.predict(X_test)\n",
        "    y_pred_train = lin_regr.predict(X_train)\n",
        "    # 4. υπολογισμός μετρικών (π.χ. r2)\n",
        "    r2_test = r2_score(y_test, y_pred_test)\n",
        "    r2_train = r2_score(y_train, y_pred_train)\n",
        "    # 5. Προσάρτηση του score σε λίστα\n",
        "    ls_r2_test_lin_regr.append(r2_test)\n",
        "    ls_r2_train_lin_regr.append(r2_train)"
      ],
      "metadata": {
        "id": "eqIPK-XXCfme"
      },
      "execution_count": null,
      "outputs": []
    },
    {
      "cell_type": "code",
      "source": [
        "# plot των τιμών R2 στα διαφορετικά depths\n",
        "plt.plot(ls_dim, ls_r2_train_lin_regr, label=\"Training data\")\n",
        "plt.plot(ls_dim, ls_r2_test_lin_regr, label=\"Testing data\")\n",
        "plt.title('Linear Regression')\n",
        "plt.xlabel('Number of random dimensions')\n",
        "plt.ylabel('R²')\n",
        "plt.legend()\n",
        "plt.show()"
      ],
      "metadata": {
        "colab": {
          "base_uri": "https://localhost:8080/",
          "height": 472
        },
        "id": "HDOHrl2QCxSN",
        "outputId": "9418c9f7-39cd-4b43-af6c-8890baa53759"
      },
      "execution_count": null,
      "outputs": [
        {
          "output_type": "display_data",
          "data": {
            "text/plain": [
              "<Figure size 640x480 with 1 Axes>"
            ],
            "image/png": "[encoded data removed]"
          },
          "metadata": {}
        }
      ]
    },
    {
      "cell_type": "markdown",
      "source": [
        "Δέντρο αποφάσεων"
      ],
      "metadata": {
        "id": "XS8bcnyYDBB2"
      }
    },
    {
      "cell_type": "code",
      "source": [
        "# Προετοιμασία κενής λίστας (συμπληρώνεται με τους μέσους όρους των αποτελέσματων στη συνέχεια)\n",
        "ls_r2_test_dec_tree = []\n",
        "ls_r2_train_dec_tree = []\n",
        "\n",
        "# δοκιμή διαφορετικού αριθμού τυχαίων διαστάσεων\n",
        "ls_dim = [0, 1, 2, 5, 10, 20, 50, 100, 200, 500, 1000, 1500]\n",
        "\n",
        "# Λούπα πάνω από τη λίστα των τυχαίων διαστάσεων\n",
        "for dimension in ls_dim:\n",
        "    # Δημιουργία αντιγράφου του πρωτοτύπου df_wine\n",
        "    df_wine_noise = df_wine.copy()\n",
        "    # κατασκευάζει τις τυχαίες διαστάσεις (μέγεθος: length of dataframe x current dimensions)\n",
        "    # Αυτός ο κώδικας είναι απαραίτητος για να δημιουργείτε πάντα τα ίδια τυχαία δεδομένα\n",
        "    random_data = np.random.RandomState(0).randn(dimension,len(df_wine_noise)).T\n",
        "    # Μετατρέψτε random_data σε dataframe\n",
        "    random_data = pd.DataFrame(random_data)\n",
        "    random_data.columns = random_data.columns.astype(str)\n",
        "    # Προσθέστε τα δεδομένα που δημιουργήθηκαν με τυχαίες τιμές στο dataframe\n",
        "    df_wine_noise = df_wine_noise.join(random_data)\n",
        "    # Δημιουργία του Regressor, με max_depth=6, αφού στην άσκηση 6 αυτό ήταν το βέλτιστο\n",
        "    dec_tree = DecisionTreeRegressor(max_depth=6)\n",
        "    # Ορισμός X και y σε κάθε λούπα, επειδή έχουμε ένα νέο dataframe (με τυχαίες στήλες) σε κάθε λούπα\n",
        "    X = df_wine_noise.drop(columns='quality')\n",
        "    y = df_wine_noise.quality\n",
        "    # 1. Split data σε training και test set\n",
        "    X_train, X_test, y_train, y_test = train_test_split(X,y, random_state=0)\n",
        "    # 2. Fitting το Regression\n",
        "    dec_tree.fit(X_train, y_train)\n",
        "    # 3. Test τον regressor με τα test data (και τα training data για να τα συγκρίνουμε)\n",
        "    y_pred_test = dec_tree.predict(X_test)\n",
        "    y_pred_train = dec_tree.predict(X_train)\n",
        "    # 4. υπολογισμός μετρικών (π.χ. r2)\n",
        "    r2_test = r2_score(y_test, y_pred_test)\n",
        "    r2_train = r2_score(y_train, y_pred_train)\n",
        "    # 5. Προσάρτηση του score σε λίστα\n",
        "    ls_r2_test_dec_tree.append(r2_test)\n",
        "    ls_r2_train_dec_tree.append(r2_train)"
      ],
      "metadata": {
        "id": "WPuFE3XIDC1x"
      },
      "execution_count": null,
      "outputs": []
    },
    {
      "cell_type": "code",
      "source": [
        "# plot των τιμών R2 στα διαφορετικά depths\n",
        "plt.plot(ls_dim, ls_r2_train_dec_tree, label=\"Training data\")\n",
        "plt.plot(ls_dim, ls_r2_test_dec_tree, label=\"Testing data\")\n",
        "plt.title('Decision Tree')\n",
        "plt.xlabel('Number of random dimensions')\n",
        "plt.ylabel('R²')\n",
        "plt.legend()\n",
        "plt.show()"
      ],
      "metadata": {
        "colab": {
          "base_uri": "https://localhost:8080/",
          "height": 472
        },
        "id": "Cdyot_PjDLmR",
        "outputId": "cf3eda47-0c89-4d30-fa73-0c038c88343a"
      },
      "execution_count": null,
      "outputs": [
        {
          "output_type": "display_data",
          "data": {
            "text/plain": [
              "<Figure size 640x480 with 1 Axes>"
            ],
            "image/png": "[encoded data removed]"
          },
          "metadata": {}
        }
      ]
    },
    {
      "cell_type": "markdown",
      "source": [
        "Τυχαίο δάσος"
      ],
      "metadata": {
        "id": "Qpgt7R1BDR11"
      }
    },
    {
      "cell_type": "code",
      "source": [
        "# Προετοιμασία κενής λίστας (συμπληρώνεται με τους μέσους όρους των αποτελέσματων στη συνέχεια)\n",
        "ls_r2_test_rf_regr = []\n",
        "ls_r2_train_rf_regr = []\n",
        "\n",
        "# δοκιμή διαφορετικού αριθμού τυχαίων διαστάσεων\n",
        "ls_dim = [0, 1, 2, 5, 10, 20, 50, 100, 200, 500, 1000, 1500]\n",
        "\n",
        "# Λούπα πάνω από τη λίστα των τυχαίων διαστάσεων\n",
        "for dimension in ls_dim:\n",
        "    # Δημιουργία αντιγράφου του πρωτοτύπου df_wine\n",
        "    df_wine_noise = df_wine.copy()\n",
        "    # κατασκευάζει τις τυχαίες διαστάσεις (μέγεθος: length of dataframe x current dimensions)\n",
        "    # Αυτός ο κώδικας είναι απαραίτητος για να δημιουργείτε πάντα τα ίδια τυχαία δεδομένα\n",
        "    random_data = np.random.RandomState(0).randn(dimension,len(df_wine_noise)).T\n",
        "    # Μετατρέψτε random_data σε dataframe\n",
        "    random_data = pd.DataFrame(random_data)\n",
        "    random_data.columns = random_data.columns.astype(str)\n",
        "    # Προσθέστε τα δεδομένα που δημιουργήθηκαν με τυχαίες τιμές στο dataframe\n",
        "    df_wine_noise = df_wine_noise.join(random_data)\n",
        "    # Δημιουργία του Regressor, περιορίζει τα n_estimators μόνο για τη μείωση του χρόνου υπολογισμού\n",
        "    rf_regr = RandomForestRegressor(n_estimators=20)\n",
        "    # Ορισμός X και y σε κάθε λούπα, επειδή έχουμε ένα νέο dataframe (με τυχαίες στήλες) σε κάθε λούπα\n",
        "    X = df_wine_noise.drop(columns='quality')\n",
        "    y = df_wine_noise.quality\n",
        "    # 1. Split data σε training και test set\n",
        "    X_train, X_test, y_train, y_test = train_test_split(X,y, random_state=0)\n",
        "    # 2. Fitting το Regression\n",
        "    rf_regr.fit(X_train, y_train)\n",
        "    # 3. Test τον regressor με τα test data (και τα training data για να τα συγκρίνουμε)\n",
        "    y_pred_test = rf_regr.predict(X_test)\n",
        "    y_pred_train = rf_regr.predict(X_train)\n",
        "    # 4. Yπολογισμός μετρικών (π.χ. r2)\n",
        "    r2_test = r2_score(y_test, y_pred_test)\n",
        "    r2_train = r2_score(y_train, y_pred_train)\n",
        "    # 5. Προσάρτηση του score σε λίστα\n",
        "    ls_r2_test_rf_regr.append(r2_test)\n",
        "    ls_r2_train_rf_regr.append(r2_train)"
      ],
      "metadata": {
        "id": "GG1MB1rnDTlv"
      },
      "execution_count": null,
      "outputs": []
    },
    {
      "cell_type": "code",
      "source": [
        "# plot των τιμών R2 στα διαφορετικά depths\n",
        "plt.plot(ls_dim, ls_r2_train_rf_regr, label=\"Training data\")\n",
        "plt.plot(ls_dim, ls_r2_test_rf_regr, label=\"Testing data\")\n",
        "plt.title('Random Forest')\n",
        "plt.xlabel('Number of random dimensions')\n",
        "plt.ylabel('R²')\n",
        "plt.legend()\n",
        "plt.show()"
      ],
      "metadata": {
        "colab": {
          "base_uri": "https://localhost:8080/",
          "height": 472
        },
        "id": "4kPlzacNDebv",
        "outputId": "b37a21e3-3035-4744-f092-2965c5a5ae47"
      },
      "execution_count": null,
      "outputs": [
        {
          "output_type": "display_data",
          "data": {
            "text/plain": [
              "<Figure size 640x480 with 1 Axes>"
            ],
            "image/png": "[encoded data removed]"
          },
          "metadata": {}
        }
      ]
    },
    {
      "cell_type": "markdown",
      "source": [
        "Γράφημα αποτελεσμάτων"
      ],
      "metadata": {
        "id": "wo2Rrs_LEpoH"
      }
    },
    {
      "cell_type": "code",
      "source": [
        "plt.plot(ls_dim, ls_r2_test_lin_regr, label=\"Testing data Linear Regression\")\n",
        "plt.plot(ls_dim, ls_r2_test_dec_tree, label=\"Testing data Decision Tree\")\n",
        "plt.plot(ls_dim, ls_r2_test_rf_regr, label=\"Testing data Random forest\")\n",
        "plt.title('Test results')\n",
        "plt.xlabel('Number of random dimensions')\n",
        "plt.ylabel('R²')\n",
        "plt.legend()\n",
        "plt.show()"
      ],
      "metadata": {
        "colab": {
          "base_uri": "https://localhost:8080/",
          "height": 472
        },
        "id": "hUyw6VlCErsf",
        "outputId": "a9cdf3ac-0aca-48ab-fdf8-41cc45fa07da"
      },
      "execution_count": null,
      "outputs": [
        {
          "output_type": "display_data",
          "data": {
            "text/plain": [
              "<Figure size 640x480 with 1 Axes>"
            ],
            "image/png": "[encoded data removed]"
          },
          "metadata": {}
        }
      ]
    },
    {
      "cell_type": "markdown",
      "source": [
        "Φαίνεται πως όσο αυξάνονται οι διαστάσεις τόσο μειώνεται η πυκνότητα (density). Το μοντέλο που φαίνεται να συγκλίνουν περισσότερο τα train με τα test data είναι η γραμμική παλινδρόμηση. Το Random Forest και το Decision Tree είναι πιο πολύπλοκα μοντέλα από τη γραμμική παλινδρόμηση, και φαίνεται πως τα αποτελέσματα των δύο πρώτων είναι σχετικά κοντά μεταξύ τους αλλά διαφορετικά από τη γραμμική παλινδρόμηση."
      ],
      "metadata": {
        "id": "aWIf14ydEIt_"
      }
    }
  ]
}